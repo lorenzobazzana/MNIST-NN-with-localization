{
  "nbformat": 4,
  "nbformat_minor": 0,
  "metadata": {
    "colab": {
      "provenance": []
    },
    "kernelspec": {
      "name": "python3",
      "display_name": "Python 3"
    },
    "language_info": {
      "name": "python"
    }
  },
  "cells": [
    {
      "cell_type": "code",
      "execution_count": 2,
      "metadata": {
        "id": "rN0gY4ONOs2v"
      },
      "outputs": [],
      "source": [
        "import numpy as np\n",
        "import matplotlib.pyplot as plt\n",
        "import matplotlib.patches as patches\n",
        "import torch\n",
        "import torch.nn as nn\n",
        "import torch.utils.data as data_utils\n",
        "import torchvision"
      ]
    },
    {
      "cell_type": "markdown",
      "source": [
        "### Dataset download and data processing"
      ],
      "metadata": {
        "id": "V4krYnLKzv2M"
      }
    },
    {
      "cell_type": "code",
      "source": [
        "dataset = torchvision.datasets.MNIST('./data', train=True, download=True)\n",
        "\n",
        "def create_subset(data, start, end):\n",
        "    transform = torchvision.transforms.ToTensor()\n",
        "    img_subset = []\n",
        "    label_subset = []\n",
        "    for i in range(start, end, 1):\n",
        "        img, class_label =  data[i]\n",
        "        img = transform(img)/255\n",
        "\n",
        "        label = [0. for i in range(10)]\n",
        "        label[class_label] = 1.\n",
        "\n",
        "        img_subset.append(img)\n",
        "        label_subset.append(label)\n",
        "\n",
        "    return torch.cat(img_subset), torch.tensor(label_subset)\n",
        "\n",
        "X_train, y_train = create_subset(dataset, 0, 45000)\n",
        "X_validation, y_validation = create_subset(dataset, 45000, 50000)\n",
        "X_test, y_test = create_subset(dataset, 50000, len(dataset))\n"
      ],
      "metadata": {
        "id": "4lZM9TbDO6WF"
      },
      "execution_count": 79,
      "outputs": []
    },
    {
      "cell_type": "code",
      "source": [
        "sample_img, img_class = dataset[np.random.randint(len(dataset))]\n",
        "\n",
        "plt.imshow(sample_img, cmap='gray', vmin=0, vmax=255)\n",
        "plt.title(f\"Class: {img_class}\")\n",
        "plt.show()"
      ],
      "metadata": {
        "colab": {
          "base_uri": "https://localhost:8080/",
          "height": 281
        },
        "id": "b90O3eB2PJSQ",
        "outputId": "cee9404e-028c-41d3-dc74-162a939928af"
      },
      "execution_count": 104,
      "outputs": [
        {
          "output_type": "display_data",
          "data": {
            "text/plain": [
              "<Figure size 432x288 with 1 Axes>"
            ],
            "image/png": "[encoded data removed]"
          },
          "metadata": {
            "needs_background": "light"
          }
        }
      ]
    },
    {
      "cell_type": "markdown",
      "source": [
        "### Definition of the classification model"
      ],
      "metadata": {
        "id": "nQ0FGhRC0DLG"
      }
    },
    {
      "cell_type": "code",
      "source": [
        "class MnistNN(nn.Module):\n",
        "    def __init__(self):\n",
        "        super().__init__()\n",
        "\n",
        "        self.linear1 = nn.Linear(28*28, 256)\n",
        "        self.linear2 = nn.Linear(256, 64)\n",
        "        self.linear3 = nn.Linear(64, 10)\n",
        "\n",
        "        self.relu = nn.ReLU()\n",
        "        self.softmax = nn.Softmax(dim=1)\n",
        "    \n",
        "    def forward(self, img_in):\n",
        "\n",
        "        out = self.linear1(img_in.view(-1, 28*28))\n",
        "        out = self.relu(out)\n",
        "        out = self.linear2(out)\n",
        "        out = self.relu(out)\n",
        "        out = self.linear3(out)\n",
        "        out = self.softmax(out)\n",
        "\n",
        "        return out\n"
      ],
      "metadata": {
        "id": "Pz2FFvgXzYAG"
      },
      "execution_count": 75,
      "outputs": []
    },
    {
      "cell_type": "markdown",
      "source": [
        "### Dataloaders, optimizer and loss function"
      ],
      "metadata": {
        "id": "NY4Plh8A1V9G"
      }
    },
    {
      "cell_type": "code",
      "source": [
        "b_size = 64\n",
        "\n",
        "train_dataset = data_utils.TensorDataset(X_train, y_train)\n",
        "train_dataloader = data_utils.DataLoader(train_dataset, batch_size=b_size)\n",
        "\n",
        "validation_dataset = data_utils.TensorDataset(X_validation, y_validation)\n",
        "validation_dataset = data_utils.DataLoader(validation_dataset, batch_size=b_size)\n",
        "\n",
        "test_dataset =  data_utils.TensorDataset(X_test, y_test)\n",
        "test_dataloader = data_utils.DataLoader(test_dataset, batch_size=b_size)\n",
        "\n",
        "model = MnistNN()\n",
        "\n",
        "lr = 1e-4\n",
        "optimizer = torch.optim.RMSprop(model.parameters(), lr=lr, alpha=0.9)\n",
        "\n",
        "loss_fn = nn.CrossEntropyLoss()"
      ],
      "metadata": {
        "id": "IRM1O9t01y2s"
      },
      "execution_count": 80,
      "outputs": []
    },
    {
      "cell_type": "code",
      "source": [
        "EPOCH_NUM = 100\n",
        "\n",
        "device = torch.device('cuda') if torch.cuda.is_available() else torch.device('cpu')\n",
        "model = model.to(device)\n",
        "\n",
        "train_accuracy = []\n",
        "validation_accuracy = []\n",
        "\n",
        "for epoch in range(EPOCH_NUM):\n",
        "    loss_history = []\n",
        "    for idx, (img, label) in enumerate(train_dataloader):\n",
        "        \n",
        "        img = img.to(device)\n",
        "        label = label.to(device)\n",
        "\n",
        "        optimizer.zero_grad()\n",
        "\n",
        "        logits = model(img)\n",
        "        loss = loss_fn(logits, label)\n",
        "\n",
        "        loss_history.append(loss.item())\n",
        "        if(epoch%10 == 0 and idx == len(train_dataloader)/b_size):\n",
        "            print(f\"Epoch: {epoch+1} -- Average loss: {sum(loss_history)/(len(train_dataloader)/b_size)}\")\n",
        "\n",
        "        loss.backward()\n",
        "        optimizer.step()\n"
      ],
      "metadata": {
        "colab": {
          "base_uri": "https://localhost:8080/"
        },
        "id": "smeSto4p5T3-",
        "outputId": "fa96edf1-f9e6-48e2-c68e-6a9994d551f5"
      },
      "execution_count": 91,
      "outputs": [
        {
          "output_type": "stream",
          "name": "stdout",
          "text": [
            "Epoch: 1 -- Average loss: 1.9750176884911277\n",
            "Epoch: 11 -- Average loss: 1.865833412517201\n",
            "Epoch: 21 -- Average loss: 1.8272419517690486\n",
            "Epoch: 31 -- Average loss: 1.797252600843256\n",
            "Epoch: 41 -- Average loss: 1.7737259322946721\n",
            "Epoch: 51 -- Average loss: 1.755177291956815\n",
            "Epoch: 61 -- Average loss: 1.7383459589698098\n",
            "Epoch: 71 -- Average loss: 1.724355621771379\n",
            "Epoch: 81 -- Average loss: 1.714603846723383\n",
            "Epoch: 91 -- Average loss: 1.7060258280147205\n"
          ]
        }
      ]
    },
    {
      "cell_type": "code",
      "source": [
        "model(torchvision.transforms.ToTensor()(sample_img))\n"
      ],
      "metadata": {
        "id": "Osmk6RWF-EL3"
      },
      "execution_count": null,
      "outputs": []
    },
    {
      "cell_type": "markdown",
      "source": [
        "### Bounding box calculation"
      ],
      "metadata": {
        "id": "OSk9nuPKz8_X"
      }
    },
    {
      "cell_type": "code",
      "source": [
        "def find_bbox(img):\n",
        "    xs = ys = xe = ye = -1\n",
        "    for i in range(28):\n",
        "        for j in range(28):\n",
        "            if img[i][j] != 0:\n",
        "                if(ys == -1):\n",
        "                    ys = i\n",
        "                if(xs == -1 or j < xs):\n",
        "                    xs = j\n",
        "                if(i > ye):\n",
        "                    ye = i\n",
        "                if(j > xe):\n",
        "                    xe = j\n",
        "    \n",
        "    return (xs-1, ys-1, xe+1, ye+1)"
      ],
      "metadata": {
        "id": "9-gfJF945ZG5"
      },
      "execution_count": 9,
      "outputs": []
    },
    {
      "cell_type": "code",
      "source": [
        "xs, ys, xe, ye = find_bbox(torchvision.transforms.PILToTensor()(sample_img)[0])\n",
        "print(xs, ys, xe, ye)\n",
        "\n",
        "fig, ax = plt.subplots()\n",
        "ax.imshow(sample_img, cmap='gray', vmin=0, vmax=255)\n",
        "rect = patches.Rectangle((xs, ys), xe-xs, ye-ys, linewidth=2, edgecolor='r', facecolor='none')\n",
        "ax.add_patch(rect)\n",
        "plt.show()"
      ],
      "metadata": {
        "colab": {
          "base_uri": "https://localhost:8080/",
          "height": 282
        },
        "id": "ZO4JTHAi8h53",
        "outputId": "c6327cb3-c0c1-4d10-d718-8e7c0916ca1c"
      },
      "execution_count": 10,
      "outputs": [
        {
          "output_type": "stream",
          "name": "stdout",
          "text": [
            "7 1 23 22\n"
          ]
        },
        {
          "output_type": "display_data",
          "data": {
            "text/plain": [
              "<Figure size 432x288 with 1 Axes>"
            ],
            "image/png": "[encoded data removed]"
          },
          "metadata": {
            "needs_background": "light"
          }
        }
      ]
    }
  ]
}