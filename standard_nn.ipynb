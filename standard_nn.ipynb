{
  "nbformat": 4,
  "nbformat_minor": 0,
  "metadata": {
    "colab": {
      "provenance": []
    },
    "kernelspec": {
      "name": "python3",
      "display_name": "Python 3"
    },
    "language_info": {
      "name": "python"
    }
  },
  "cells": [
    {
      "cell_type": "code",
      "execution_count": 53,
      "metadata": {
        "id": "rN0gY4ONOs2v"
      },
      "outputs": [],
      "source": [
        "import numpy as np\n",
        "import matplotlib.pyplot as plt\n",
        "import torch\n",
        "import torch.nn as nn\n",
        "import torch.utils.data as data_utils\n",
        "import torchvision"
      ]
    },
    {
      "cell_type": "code",
      "source": [
        "dataset = torchvision.datasets.MNIST('./data', train=True, download=True)\n",
        "\n",
        "train_set = torch.utils.data.Subset(dataset, torch.arange(0,45000))\n",
        "validation_set = torch.utils.data.Subset(dataset, torch.arange(45000,50000))\n",
        "test_set = torch.utils.data.Subset(dataset, torch.arange(50000,len(dataset)))\n",
        "\n",
        "bsize = 64\n",
        "\n",
        "train_dataloader = data_utils.DataLoader(train_set, batch_size = bsize, sampler=data_utils.RandomSampler)\n",
        "validation_set = data_utils.DataLoader(validation_set, batch_size = bsize, sampler=data_utils.RandomSampler)\n",
        "test_set = data_utils.DataLoader(test_set, batch_size = bsize, sampler=data_utils.SequentialSampler)"
      ],
      "metadata": {
        "id": "4lZM9TbDO6WF"
      },
      "execution_count": 54,
      "outputs": []
    },
    {
      "cell_type": "code",
      "source": [
        "sample_img, img_class = dataset[np.random.randint(len(dataset))]\n",
        "\n",
        "plt.imshow(sample_img)\n",
        "plt.title(f\"Class: {img_class}\")\n",
        "plt.show()"
      ],
      "metadata": {
        "colab": {
          "base_uri": "https://localhost:8080/",
          "height": 281
        },
        "id": "b90O3eB2PJSQ",
        "outputId": "aaf5f5cf-0131-4ce1-b5f0-ed11c3ee3ec9"
      },
      "execution_count": 55,
      "outputs": [
        {
          "output_type": "display_data",
          "data": {
            "text/plain": [
              "<Figure size 432x288 with 1 Axes>"
            ],
            "image/png": "[encoded data removed]"
          },
          "metadata": {
            "needs_background": "light"
          }
        }
      ]
    },
    {
      "cell_type": "code",
      "source": [
        "class MnistNN(nn.Module):\n",
        "    def __init__(self):\n",
        "        super().__init__()\n",
        "        self.transform = torchvision.transforms.Compose([\n",
        "            torchvision.transforms.PILToTensor(),\n",
        "            torchvision.transforms.ConvertImageDtype(torch.float32),\n",
        "            torchvision.transforms.Normalize(mean=1, std=0.5),\n",
        "        ])\n",
        "\n",
        "        self.linear1 = nn.Linear(28*28, 256)\n",
        "        self.linear2 = nn.Linear(256, 64)\n",
        "        self.linear3 = nn.Linear(64, 10)\n",
        "\n",
        "        self.relu = nn.ReLU()\n",
        "        self.softmax = nn.Softmax(dim=1)\n",
        "    \n",
        "    def forward(self, img_in):\n",
        "\n",
        "        transformed_img = self.transform(img_in).view(1,-1)\n",
        "        out = self.linear1(transformed_img)\n",
        "        out = self.relu(out)\n",
        "        out = self.linear2(out)\n",
        "        out = self.relu(out)\n",
        "        out = self.linear3(out)\n",
        "        out = self.softmax(out)\n",
        "\n",
        "        return out\n"
      ],
      "metadata": {
        "id": "Pz2FFvgXzYAG"
      },
      "execution_count": 47,
      "outputs": []
    },
    {
      "cell_type": "code",
      "source": [
        "model = MnistNN()\n",
        "loss_fn = nn.CrossEntropyLoss()\n",
        "\n",
        "device = torch.device('cuda') if torch.cuda.is_available() else torch.device('cpu')\n",
        "model = model.to(device)\n",
        "\n",
        "lr = 1e-4\n",
        "optimizer = torch.optim.RMSProp(model.params, lr=lr, alpha=0.9)\n",
        "\n",
        "EPOCH_NUM = 10\n",
        "\n",
        "for epoch in EPOCH_NUM:\n",
        "    for idx, (img, label) in train_dataloader:\n",
        "        logits = model(img)\n",
        "        loss = loss_fn(logits, label)"
      ],
      "metadata": {
        "colab": {
          "base_uri": "https://localhost:8080/",
          "height": 232
        },
        "id": "smeSto4p5T3-",
        "outputId": "657c5d50-ac3d-4345-f150-c60e7279c1e6"
      },
      "execution_count": 50,
      "outputs": [
        {
          "output_type": "error",
          "ename": "AttributeError",
          "evalue": "ignored",
          "traceback": [
            "\u001b[0;31m---------------------------------------------------------------------------\u001b[0m",
            "\u001b[0;31mAttributeError\u001b[0m                            Traceback (most recent call last)",
            "\u001b[0;32m<ipython-input-50-91222fa2a354>\u001b[0m in \u001b[0;36m<module>\u001b[0;34m\u001b[0m\n\u001b[1;32m      4\u001b[0m \u001b[0mdevice\u001b[0m \u001b[0;34m=\u001b[0m \u001b[0mtorch\u001b[0m\u001b[0;34m.\u001b[0m\u001b[0mdevice\u001b[0m\u001b[0;34m(\u001b[0m\u001b[0;34m'cuda'\u001b[0m\u001b[0;34m)\u001b[0m \u001b[0;32mif\u001b[0m \u001b[0mtorch\u001b[0m\u001b[0;34m.\u001b[0m\u001b[0mcuda\u001b[0m\u001b[0;34m.\u001b[0m\u001b[0mis_available\u001b[0m\u001b[0;34m(\u001b[0m\u001b[0;34m)\u001b[0m \u001b[0;32melse\u001b[0m \u001b[0mtorch\u001b[0m\u001b[0;34m.\u001b[0m\u001b[0mdevice\u001b[0m\u001b[0;34m(\u001b[0m\u001b[0;34m'cpu'\u001b[0m\u001b[0;34m)\u001b[0m\u001b[0;34m\u001b[0m\u001b[0;34m\u001b[0m\u001b[0m\n\u001b[1;32m      5\u001b[0m \u001b[0mmodel\u001b[0m \u001b[0;34m=\u001b[0m \u001b[0mmodel\u001b[0m\u001b[0;34m.\u001b[0m\u001b[0mto\u001b[0m\u001b[0;34m(\u001b[0m\u001b[0mdevice\u001b[0m\u001b[0;34m)\u001b[0m\u001b[0;34m\u001b[0m\u001b[0;34m\u001b[0m\u001b[0m\n\u001b[0;32m----> 6\u001b[0;31m \u001b[0mtrain_set\u001b[0m \u001b[0;34m=\u001b[0m \u001b[0mtrain_set\u001b[0m\u001b[0;34m.\u001b[0m\u001b[0mto\u001b[0m\u001b[0;34m(\u001b[0m\u001b[0mdevice\u001b[0m\u001b[0;34m)\u001b[0m\u001b[0;34m\u001b[0m\u001b[0;34m\u001b[0m\u001b[0m\n\u001b[0m\u001b[1;32m      7\u001b[0m \u001b[0mvalidation_set\u001b[0m \u001b[0;34m=\u001b[0m \u001b[0mvalidation_set\u001b[0m\u001b[0;34m.\u001b[0m\u001b[0mto\u001b[0m\u001b[0;34m(\u001b[0m\u001b[0mdevice\u001b[0m\u001b[0;34m)\u001b[0m\u001b[0;34m\u001b[0m\u001b[0;34m\u001b[0m\u001b[0m\n\u001b[1;32m      8\u001b[0m \u001b[0mtest_set\u001b[0m \u001b[0;34m=\u001b[0m \u001b[0mtest_set\u001b[0m\u001b[0;34m.\u001b[0m\u001b[0mto\u001b[0m\u001b[0;34m(\u001b[0m\u001b[0mdevice\u001b[0m\u001b[0;34m)\u001b[0m\u001b[0;34m\u001b[0m\u001b[0;34m\u001b[0m\u001b[0m\n",
            "\u001b[0;31mAttributeError\u001b[0m: 'Subset' object has no attribute 'to'"
          ]
        }
      ]
    },
    {
      "cell_type": "code",
      "source": [],
      "metadata": {
        "id": "Osmk6RWF-EL3"
      },
      "execution_count": null,
      "outputs": []
    }
  ]
}